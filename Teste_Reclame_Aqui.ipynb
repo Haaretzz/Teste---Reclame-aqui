{
  "nbformat": 4,
  "nbformat_minor": 0,
  "metadata": {
    "colab": {
      "name": "Teste - Reclame Aqui.ipynb",
      "provenance": [],
      "collapsed_sections": [
        "Ri2H79wczZ9J",
        "yTTeFMWz0yLj",
        "phndVitq7IP8",
        "tEhdguqwFRu5",
        "kgqlZh-m0PIq",
        "YtX0v0kD0KXm"
      ],
      "authorship_tag": "ABX9TyPHwfjpwYP/tk+TGH7viqSv",
      "include_colab_link": true
    },
    "kernelspec": {
      "name": "python3",
      "display_name": "Python 3"
    }
  },
  "cells": [
    {
      "cell_type": "markdown",
      "metadata": {
        "id": "view-in-github",
        "colab_type": "text"
      },
      "source": [
        "<a href=\"https://colab.research.google.com/github/Haaretzz/Teste---Reclame-aqui/blob/master/Teste_Reclame_Aqui.ipynb\" target=\"_parent\"><img src=\"https://colab.research.google.com/assets/colab-badge.svg\" alt=\"Open In Colab\"/></a>"
      ]
    },
    {
      "cell_type": "code",
      "metadata": {
        "id": "b3TiZ140dVoz",
        "colab_type": "code",
        "colab": {
          "base_uri": "https://localhost:8080/",
          "height": 206
        },
        "outputId": "c676859c-edbe-4cba-babb-92b98ba8730b"
      },
      "source": [
        "import pandas as pd\n",
        "\n",
        "#Eu fiz upload do arquivo no meu github, para que não necessite fazer upload aqui no colab.\n",
        "#Desse jeito eu posso mandar o link pelo questionário para que vocês consigam ver normalmente ;)\n",
        "path = 'https://raw.githubusercontent.com/Haaretzz/Teste---Reclame-aqui/master/base_teste.csv'\n",
        "\n",
        "#Inicialmente eu acabei tendo um problema com a separação automática do arquivo, já que\n",
        "#há virgulas nos títulos, fazendo com que o python visualizasse mais de uma coluna na frase.\n",
        "#O outro ponto foi o encoding, este erro provém possívelmente por conta de acentuação mesmo, assim\n",
        "#acabei tendo que mudar para o \"ISO-8859-1, este que acaba lidando melhor com os nossos acentuos.\"\n",
        "base = pd.read_csv(path, sep = ';', encoding = 'ISO-8859-1')\n",
        "\n",
        "#Só para ver o retorno:\n",
        "base.head()"
      ],
      "execution_count": 1,
      "outputs": [
        {
          "output_type": "execute_result",
          "data": {
            "text/html": [
              "<div>\n",
              "<style scoped>\n",
              "    .dataframe tbody tr th:only-of-type {\n",
              "        vertical-align: middle;\n",
              "    }\n",
              "\n",
              "    .dataframe tbody tr th {\n",
              "        vertical-align: top;\n",
              "    }\n",
              "\n",
              "    .dataframe thead th {\n",
              "        text-align: right;\n",
              "    }\n",
              "</style>\n",
              "<table border=\"1\" class=\"dataframe\">\n",
              "  <thead>\n",
              "    <tr style=\"text-align: right;\">\n",
              "      <th></th>\n",
              "      <th>id</th>\n",
              "      <th>titulo</th>\n",
              "      <th>publicacao</th>\n",
              "    </tr>\n",
              "  </thead>\n",
              "  <tbody>\n",
              "    <tr>\n",
              "      <th>0</th>\n",
              "      <td>44121</td>\n",
              "      <td>Farfetch não estornou valor da devolução</td>\n",
              "      <td>2019-11-27 13:34:08 UTC</td>\n",
              "    </tr>\n",
              "    <tr>\n",
              "      <th>1</th>\n",
              "      <td>98294</td>\n",
              "      <td>Péssimo por venda</td>\n",
              "      <td>2019-01-16 16:41:44 UTC</td>\n",
              "    </tr>\n",
              "    <tr>\n",
              "      <th>2</th>\n",
              "      <td>2010</td>\n",
              "      <td>falta de respeito com as revendedoras</td>\n",
              "      <td>2019-11-05 22:41:49 UTC</td>\n",
              "    </tr>\n",
              "    <tr>\n",
              "      <th>3</th>\n",
              "      <td>32061</td>\n",
              "      <td>Desistência e cancelamento do Programa</td>\n",
              "      <td>2019-01-28 11:04:27 UTC</td>\n",
              "    </tr>\n",
              "    <tr>\n",
              "      <th>4</th>\n",
              "      <td>270</td>\n",
              "      <td>Serviço prioritário</td>\n",
              "      <td>2020-01-30 08:16:32 UTC</td>\n",
              "    </tr>\n",
              "  </tbody>\n",
              "</table>\n",
              "</div>"
            ],
            "text/plain": [
              "      id                                    titulo               publicacao\n",
              "0  44121  Farfetch não estornou valor da devolução  2019-11-27 13:34:08 UTC\n",
              "1  98294                         Péssimo por venda  2019-01-16 16:41:44 UTC\n",
              "2   2010     falta de respeito com as revendedoras  2019-11-05 22:41:49 UTC\n",
              "3  32061    Desistência e cancelamento do Programa  2019-01-28 11:04:27 UTC\n",
              "4    270                       Serviço prioritário  2020-01-30 08:16:32 UTC"
            ]
          },
          "metadata": {
            "tags": []
          },
          "execution_count": 1
        }
      ]
    },
    {
      "cell_type": "markdown",
      "metadata": {
        "id": "Ri2H79wczZ9J",
        "colab_type": "text"
      },
      "source": [
        "#Pergunta 1: Quantas reclamações tem, respectivamente, as empresas com os seguintes IDs: 7712 e mvrtggDcqcALclzf."
      ]
    },
    {
      "cell_type": "code",
      "metadata": {
        "id": "OAQ8CeyAzjSU",
        "colab_type": "code",
        "colab": {
          "base_uri": "https://localhost:8080/",
          "height": 143
        },
        "outputId": "3278ab7d-f4c2-43f0-f54b-7a17358fea35"
      },
      "source": [
        "#Muito simples, apenas filtrei e agrupei pelos ID's:\n",
        "base[['id', 'titulo']].query(\"id in ['7712', 'mvrtggDcqcALclzf']\").groupby('id').count()"
      ],
      "execution_count": 2,
      "outputs": [
        {
          "output_type": "execute_result",
          "data": {
            "text/html": [
              "<div>\n",
              "<style scoped>\n",
              "    .dataframe tbody tr th:only-of-type {\n",
              "        vertical-align: middle;\n",
              "    }\n",
              "\n",
              "    .dataframe tbody tr th {\n",
              "        vertical-align: top;\n",
              "    }\n",
              "\n",
              "    .dataframe thead th {\n",
              "        text-align: right;\n",
              "    }\n",
              "</style>\n",
              "<table border=\"1\" class=\"dataframe\">\n",
              "  <thead>\n",
              "    <tr style=\"text-align: right;\">\n",
              "      <th></th>\n",
              "      <th>titulo</th>\n",
              "    </tr>\n",
              "    <tr>\n",
              "      <th>id</th>\n",
              "      <th></th>\n",
              "    </tr>\n",
              "  </thead>\n",
              "  <tbody>\n",
              "    <tr>\n",
              "      <th>7712</th>\n",
              "      <td>808</td>\n",
              "    </tr>\n",
              "    <tr>\n",
              "      <th>mvrtggDcqcALclzf</th>\n",
              "      <td>448</td>\n",
              "    </tr>\n",
              "  </tbody>\n",
              "</table>\n",
              "</div>"
            ],
            "text/plain": [
              "                  titulo\n",
              "id                      \n",
              "7712                 808\n",
              "mvrtggDcqcALclzf     448"
            ]
          },
          "metadata": {
            "tags": []
          },
          "execution_count": 2
        }
      ]
    },
    {
      "cell_type": "markdown",
      "metadata": {
        "id": "yTTeFMWz0yLj",
        "colab_type": "text"
      },
      "source": [
        "#Pergunta 2: Quantas reclamações foram publicadas no da 18/09/2019?"
      ]
    },
    {
      "cell_type": "code",
      "metadata": {
        "id": "LREBHu4v1o-h",
        "colab_type": "code",
        "colab": {
          "base_uri": "https://localhost:8080/",
          "height": 206
        },
        "outputId": "11b8d183-6d85-414b-a39f-c503ba8ba0c0"
      },
      "source": [
        "#Primeira coisa que farei é passar os dados da base inicial para uma nova\n",
        "#(sempre faço isso quando vou modificar colunas, assim não corro o risco de avariar a base)\n",
        "base_com_data_separada = base.copy()\n",
        "\n",
        "#Agora eu farei um split na coluna de publicação, assim separaremos a data e hora:\n",
        "#O split é um método muito comúm quando falamos de string, ele é utilizado para\n",
        "#separar uma string em várias outras a partir de um caractere passado como referência.\n",
        "#E neste caso eu passei o ' ', que é basicamente um espaço, além disso, utilizei o \"expand = True\"\n",
        "#para que fosse retornado um DataFrame do pandas ao invés de uma series, assim, podendo\n",
        "#colocar diretamente na minha base de dados.\n",
        "base_com_data_separada[['data', 'hora', 'formato']] = base['publicacao'].str.split(' ', expand = True)\n",
        "\n",
        "#Visualizando como ficou:\n",
        "base_com_data_separada.head()"
      ],
      "execution_count": 3,
      "outputs": [
        {
          "output_type": "execute_result",
          "data": {
            "text/html": [
              "<div>\n",
              "<style scoped>\n",
              "    .dataframe tbody tr th:only-of-type {\n",
              "        vertical-align: middle;\n",
              "    }\n",
              "\n",
              "    .dataframe tbody tr th {\n",
              "        vertical-align: top;\n",
              "    }\n",
              "\n",
              "    .dataframe thead th {\n",
              "        text-align: right;\n",
              "    }\n",
              "</style>\n",
              "<table border=\"1\" class=\"dataframe\">\n",
              "  <thead>\n",
              "    <tr style=\"text-align: right;\">\n",
              "      <th></th>\n",
              "      <th>id</th>\n",
              "      <th>titulo</th>\n",
              "      <th>publicacao</th>\n",
              "      <th>data</th>\n",
              "      <th>hora</th>\n",
              "      <th>formato</th>\n",
              "    </tr>\n",
              "  </thead>\n",
              "  <tbody>\n",
              "    <tr>\n",
              "      <th>0</th>\n",
              "      <td>44121</td>\n",
              "      <td>Farfetch não estornou valor da devolução</td>\n",
              "      <td>2019-11-27 13:34:08 UTC</td>\n",
              "      <td>2019-11-27</td>\n",
              "      <td>13:34:08</td>\n",
              "      <td>UTC</td>\n",
              "    </tr>\n",
              "    <tr>\n",
              "      <th>1</th>\n",
              "      <td>98294</td>\n",
              "      <td>Péssimo por venda</td>\n",
              "      <td>2019-01-16 16:41:44 UTC</td>\n",
              "      <td>2019-01-16</td>\n",
              "      <td>16:41:44</td>\n",
              "      <td>UTC</td>\n",
              "    </tr>\n",
              "    <tr>\n",
              "      <th>2</th>\n",
              "      <td>2010</td>\n",
              "      <td>falta de respeito com as revendedoras</td>\n",
              "      <td>2019-11-05 22:41:49 UTC</td>\n",
              "      <td>2019-11-05</td>\n",
              "      <td>22:41:49</td>\n",
              "      <td>UTC</td>\n",
              "    </tr>\n",
              "    <tr>\n",
              "      <th>3</th>\n",
              "      <td>32061</td>\n",
              "      <td>Desistência e cancelamento do Programa</td>\n",
              "      <td>2019-01-28 11:04:27 UTC</td>\n",
              "      <td>2019-01-28</td>\n",
              "      <td>11:04:27</td>\n",
              "      <td>UTC</td>\n",
              "    </tr>\n",
              "    <tr>\n",
              "      <th>4</th>\n",
              "      <td>270</td>\n",
              "      <td>Serviço prioritário</td>\n",
              "      <td>2020-01-30 08:16:32 UTC</td>\n",
              "      <td>2020-01-30</td>\n",
              "      <td>08:16:32</td>\n",
              "      <td>UTC</td>\n",
              "    </tr>\n",
              "  </tbody>\n",
              "</table>\n",
              "</div>"
            ],
            "text/plain": [
              "      id                                    titulo  ...      hora formato\n",
              "0  44121  Farfetch não estornou valor da devolução  ...  13:34:08     UTC\n",
              "1  98294                         Péssimo por venda  ...  16:41:44     UTC\n",
              "2   2010     falta de respeito com as revendedoras  ...  22:41:49     UTC\n",
              "3  32061    Desistência e cancelamento do Programa  ...  11:04:27     UTC\n",
              "4    270                       Serviço prioritário  ...  08:16:32     UTC\n",
              "\n",
              "[5 rows x 6 columns]"
            ]
          },
          "metadata": {
            "tags": []
          },
          "execution_count": 3
        }
      ]
    },
    {
      "cell_type": "code",
      "metadata": {
        "id": "Jh13T_6l6GZt",
        "colab_type": "code",
        "colab": {
          "base_uri": "https://localhost:8080/",
          "height": 35
        },
        "outputId": "8c0a1925-d276-4b03-c9e7-74c355b37b05"
      },
      "source": [
        "#Agora é só filtrar pela data:\n",
        "base_com_data_separada[['id', 'data']].query(\"data == '2019-09-18'\")['data'].count()"
      ],
      "execution_count": 4,
      "outputs": [
        {
          "output_type": "execute_result",
          "data": {
            "text/plain": [
              "650"
            ]
          },
          "metadata": {
            "tags": []
          },
          "execution_count": 4
        }
      ]
    },
    {
      "cell_type": "markdown",
      "metadata": {
        "id": "phndVitq7IP8",
        "colab_type": "text"
      },
      "source": [
        "#Pergunta 3: Quantas reclamações foram publicadas entre as 13 e 14h do dia 22/11/2019?"
      ]
    },
    {
      "cell_type": "code",
      "metadata": {
        "id": "eYcNncNW7NBd",
        "colab_type": "code",
        "colab": {
          "base_uri": "https://localhost:8080/",
          "height": 35
        },
        "outputId": "e77bc9a7-e3d8-43bb-b47a-a15b75d9c56e"
      },
      "source": [
        "#Primeiro vou filtrar toda a base de dados pela data solicitada e extrair apenas as colunas \"data e hora\":\n",
        "base_data_filtrada = base_com_data_separada[['data','hora']].query(\"data == '2019-11-22'\")\n",
        "#Depois disso é só fazer uma query para achar os valores que estão entre as horas pedidas:\n",
        "base_data_filtrada.query(\"hora >= '13:00:00' & hora <= '14:00:00'\").count()['hora']"
      ],
      "execution_count": 5,
      "outputs": [
        {
          "output_type": "execute_result",
          "data": {
            "text/plain": [
              "48"
            ]
          },
          "metadata": {
            "tags": []
          },
          "execution_count": 5
        }
      ]
    },
    {
      "cell_type": "markdown",
      "metadata": {
        "id": "tEhdguqwFRu5",
        "colab_type": "text"
      },
      "source": [
        "#Pergunta 4: Respectivamente, quantas reclamações têm, no título, os termos cobrança e cobrança indevida em toda a base?"
      ]
    },
    {
      "cell_type": "markdown",
      "metadata": {
        "id": "kgqlZh-m0PIq",
        "colab_type": "text"
      },
      "source": [
        "##Ocorrências das palavras com o \"Ç\""
      ]
    },
    {
      "cell_type": "code",
      "metadata": {
        "id": "ki-2hD2DiG8f",
        "colab_type": "code",
        "colab": {
          "base_uri": "https://localhost:8080/",
          "height": 206
        },
        "outputId": "1ba5b485-afd7-4fce-e8cd-e79bc2034c83"
      },
      "source": [
        "#Primeiro vamos criar uma nova base para não ficar confuso:\n",
        "base_auxiliar = base.copy()\n",
        "\n",
        "#Agora vou colocar todos os títulos em maíusculo, assim não terei problemas com \"Case Sensitivity\".\n",
        "#Para isso eu pego apenas a coluna 'titulo', o que torna meu DataFrame agora uma series e utilizo o\n",
        "#\"upper()\" fazendo com que os caracteres fiquem todos em maiúsculo:\n",
        "base_auxiliar['titulo'] = base_auxiliar['titulo'].str.upper()\n",
        "\n",
        "#Para ver como ficou:\n",
        "base_auxiliar.head()"
      ],
      "execution_count": 6,
      "outputs": [
        {
          "output_type": "execute_result",
          "data": {
            "text/html": [
              "<div>\n",
              "<style scoped>\n",
              "    .dataframe tbody tr th:only-of-type {\n",
              "        vertical-align: middle;\n",
              "    }\n",
              "\n",
              "    .dataframe tbody tr th {\n",
              "        vertical-align: top;\n",
              "    }\n",
              "\n",
              "    .dataframe thead th {\n",
              "        text-align: right;\n",
              "    }\n",
              "</style>\n",
              "<table border=\"1\" class=\"dataframe\">\n",
              "  <thead>\n",
              "    <tr style=\"text-align: right;\">\n",
              "      <th></th>\n",
              "      <th>id</th>\n",
              "      <th>titulo</th>\n",
              "      <th>publicacao</th>\n",
              "    </tr>\n",
              "  </thead>\n",
              "  <tbody>\n",
              "    <tr>\n",
              "      <th>0</th>\n",
              "      <td>44121</td>\n",
              "      <td>FARFETCH NÃO ESTORNOU VALOR DA DEVOLUÇÃO</td>\n",
              "      <td>2019-11-27 13:34:08 UTC</td>\n",
              "    </tr>\n",
              "    <tr>\n",
              "      <th>1</th>\n",
              "      <td>98294</td>\n",
              "      <td>PÉSSIMO POR VENDA</td>\n",
              "      <td>2019-01-16 16:41:44 UTC</td>\n",
              "    </tr>\n",
              "    <tr>\n",
              "      <th>2</th>\n",
              "      <td>2010</td>\n",
              "      <td>FALTA DE RESPEITO COM AS REVENDEDORAS</td>\n",
              "      <td>2019-11-05 22:41:49 UTC</td>\n",
              "    </tr>\n",
              "    <tr>\n",
              "      <th>3</th>\n",
              "      <td>32061</td>\n",
              "      <td>DESISTÊNCIA E CANCELAMENTO DO PROGRAMA</td>\n",
              "      <td>2019-01-28 11:04:27 UTC</td>\n",
              "    </tr>\n",
              "    <tr>\n",
              "      <th>4</th>\n",
              "      <td>270</td>\n",
              "      <td>SERVIÇO PRIORITÁRIO</td>\n",
              "      <td>2020-01-30 08:16:32 UTC</td>\n",
              "    </tr>\n",
              "  </tbody>\n",
              "</table>\n",
              "</div>"
            ],
            "text/plain": [
              "      id                                    titulo               publicacao\n",
              "0  44121  FARFETCH NÃO ESTORNOU VALOR DA DEVOLUÇÃO  2019-11-27 13:34:08 UTC\n",
              "1  98294                         PÉSSIMO POR VENDA  2019-01-16 16:41:44 UTC\n",
              "2   2010     FALTA DE RESPEITO COM AS REVENDEDORAS  2019-11-05 22:41:49 UTC\n",
              "3  32061    DESISTÊNCIA E CANCELAMENTO DO PROGRAMA  2019-01-28 11:04:27 UTC\n",
              "4    270                       SERVIÇO PRIORITÁRIO  2020-01-30 08:16:32 UTC"
            ]
          },
          "metadata": {
            "tags": []
          },
          "execution_count": 6
        }
      ]
    },
    {
      "cell_type": "code",
      "metadata": {
        "id": "qOsE7kIMprpf",
        "colab_type": "code",
        "colab": {
          "base_uri": "https://localhost:8080/",
          "height": 90
        },
        "outputId": "78e58813-a001-4eb0-b64b-0cf8a97650a7"
      },
      "source": [
        "#Agora irei criar uma coluna nova, para que possa dividir entre \"cobrança\" e \"cobrança indevida\":\n",
        "#Para fazer isso, eu peguei apenas uma coluna do nosso DataFrame, fazendo com que ele vire uma series, \n",
        "#assim, eu pude transformá-lo em string e utilizar o \"contains()\", esta função retorna\n",
        "#o index da linha e dados booleanos (False, True), então utilizando o \"astype(int)\"\n",
        "#transformei os dados booleanos em 0 e 1, passando-os para uma nova coluna. Depois disso\n",
        "#acaba ficando bem fácil de distinguir as ocorrências.\n",
        "#OBS: Tive que utilizar o contains com a \"COBRANÇA INDEVIDA|COBRANÇAS INDEVIDAS\", pois se \n",
        "#colocasse \"COBRANÇA\" acabaria não conseguindo diferenciar, afinal, tudo iria vir com \"1\".\n",
        "base_auxiliar['tipo_de_cobranca'] = base_auxiliar['titulo'].str.contains(\"COBRANÇA INDEVIDA|COBRANÇAS INDEVIDAS\",\n",
        "                                                                         na=False).astype(int)\n",
        "\n",
        "#Agora eu preciso filtrar novamente tudo, porém pela ocorrência apenas da \"COBRANÇA\".\n",
        "#Fazendo isso, irei passar o df para outra variável por questões de organização\n",
        "#e clareza do código:                                                                         \n",
        "base_cobranca = base_auxiliar[base_auxiliar['titulo'].str.contains('COBRANÇA')].copy()\n",
        "\n",
        "#Agora é só agrupar e contar os valores:\n",
        "base_cobranca.groupby('tipo_de_cobranca').count()['id']\n",
        "#Sendo o 1 as \"cobranças indevidas\" e o 0 apenas a ocorrência da palavra \"cobrança\""
      ],
      "execution_count": 7,
      "outputs": [
        {
          "output_type": "execute_result",
          "data": {
            "text/plain": [
              "tipo_de_cobranca\n",
              "0    5516\n",
              "1    7658\n",
              "Name: id, dtype: int64"
            ]
          },
          "metadata": {
            "tags": []
          },
          "execution_count": 7
        }
      ]
    },
    {
      "cell_type": "code",
      "metadata": {
        "id": "FgOgOaV9yIEP",
        "colab_type": "code",
        "colab": {
          "base_uri": "https://localhost:8080/",
          "height": 35
        },
        "outputId": "e96120a2-5864-4b2e-e6a9-710e085d8ba9"
      },
      "source": [
        "#O total é:\n",
        "base_cobranca.count()['id']"
      ],
      "execution_count": 8,
      "outputs": [
        {
          "output_type": "execute_result",
          "data": {
            "text/plain": [
              "13174"
            ]
          },
          "metadata": {
            "tags": []
          },
          "execution_count": 8
        }
      ]
    },
    {
      "cell_type": "markdown",
      "metadata": {
        "id": "YtX0v0kD0KXm",
        "colab_type": "text"
      },
      "source": [
        "##Ocorrências das palavras sem o \"Ç\""
      ]
    },
    {
      "cell_type": "code",
      "metadata": {
        "id": "LNCVZbrrztgb",
        "colab_type": "code",
        "colab": {
          "base_uri": "https://localhost:8080/",
          "height": 206
        },
        "outputId": "d518f11c-b5fc-4a7e-ba3e-c47db283d037"
      },
      "source": [
        "#Agora para completar eu pegarei também a ocorrência da palavra cobrança sem o \"Ç\".\n",
        "#Para isto, irei refazer todo o processo anterior:\n",
        "\n",
        "base_auxiliar_2 = base.copy()\n",
        "\n",
        "base_auxiliar_2['titulo'] = base_auxiliar_2['titulo'].str.upper()\n",
        "\n",
        "base_auxiliar_2.head()"
      ],
      "execution_count": 9,
      "outputs": [
        {
          "output_type": "execute_result",
          "data": {
            "text/html": [
              "<div>\n",
              "<style scoped>\n",
              "    .dataframe tbody tr th:only-of-type {\n",
              "        vertical-align: middle;\n",
              "    }\n",
              "\n",
              "    .dataframe tbody tr th {\n",
              "        vertical-align: top;\n",
              "    }\n",
              "\n",
              "    .dataframe thead th {\n",
              "        text-align: right;\n",
              "    }\n",
              "</style>\n",
              "<table border=\"1\" class=\"dataframe\">\n",
              "  <thead>\n",
              "    <tr style=\"text-align: right;\">\n",
              "      <th></th>\n",
              "      <th>id</th>\n",
              "      <th>titulo</th>\n",
              "      <th>publicacao</th>\n",
              "    </tr>\n",
              "  </thead>\n",
              "  <tbody>\n",
              "    <tr>\n",
              "      <th>0</th>\n",
              "      <td>44121</td>\n",
              "      <td>FARFETCH NÃO ESTORNOU VALOR DA DEVOLUÇÃO</td>\n",
              "      <td>2019-11-27 13:34:08 UTC</td>\n",
              "    </tr>\n",
              "    <tr>\n",
              "      <th>1</th>\n",
              "      <td>98294</td>\n",
              "      <td>PÉSSIMO POR VENDA</td>\n",
              "      <td>2019-01-16 16:41:44 UTC</td>\n",
              "    </tr>\n",
              "    <tr>\n",
              "      <th>2</th>\n",
              "      <td>2010</td>\n",
              "      <td>FALTA DE RESPEITO COM AS REVENDEDORAS</td>\n",
              "      <td>2019-11-05 22:41:49 UTC</td>\n",
              "    </tr>\n",
              "    <tr>\n",
              "      <th>3</th>\n",
              "      <td>32061</td>\n",
              "      <td>DESISTÊNCIA E CANCELAMENTO DO PROGRAMA</td>\n",
              "      <td>2019-01-28 11:04:27 UTC</td>\n",
              "    </tr>\n",
              "    <tr>\n",
              "      <th>4</th>\n",
              "      <td>270</td>\n",
              "      <td>SERVIÇO PRIORITÁRIO</td>\n",
              "      <td>2020-01-30 08:16:32 UTC</td>\n",
              "    </tr>\n",
              "  </tbody>\n",
              "</table>\n",
              "</div>"
            ],
            "text/plain": [
              "      id                                    titulo               publicacao\n",
              "0  44121  FARFETCH NÃO ESTORNOU VALOR DA DEVOLUÇÃO  2019-11-27 13:34:08 UTC\n",
              "1  98294                         PÉSSIMO POR VENDA  2019-01-16 16:41:44 UTC\n",
              "2   2010     FALTA DE RESPEITO COM AS REVENDEDORAS  2019-11-05 22:41:49 UTC\n",
              "3  32061    DESISTÊNCIA E CANCELAMENTO DO PROGRAMA  2019-01-28 11:04:27 UTC\n",
              "4    270                       SERVIÇO PRIORITÁRIO  2020-01-30 08:16:32 UTC"
            ]
          },
          "metadata": {
            "tags": []
          },
          "execution_count": 9
        }
      ]
    },
    {
      "cell_type": "code",
      "metadata": {
        "id": "1a0mbGGU0wkZ",
        "colab_type": "code",
        "colab": {
          "base_uri": "https://localhost:8080/",
          "height": 90
        },
        "outputId": "fb45b7c3-2fe2-4d2c-ab24-b73bba96c8f7"
      },
      "source": [
        "base_auxiliar_2['tipo_de_cobranca'] = base_auxiliar_2['titulo'].str.contains('COBRANCA INDEVIDA|COBRANCAS INDEVIDAS',\n",
        "                                                                             na=False).astype(int)\n",
        "\n",
        "base_cobranca_2 = base_auxiliar_2[base_auxiliar_2['titulo'].str.contains('COBRANCA')].copy()\n",
        "\n",
        "base_cobranca_2.groupby('tipo_de_cobranca').count()['id']"
      ],
      "execution_count": 10,
      "outputs": [
        {
          "output_type": "execute_result",
          "data": {
            "text/plain": [
              "tipo_de_cobranca\n",
              "0    151\n",
              "1    182\n",
              "Name: id, dtype: int64"
            ]
          },
          "metadata": {
            "tags": []
          },
          "execution_count": 10
        }
      ]
    },
    {
      "cell_type": "code",
      "metadata": {
        "id": "WOSzCdw-1eu-",
        "colab_type": "code",
        "colab": {
          "base_uri": "https://localhost:8080/",
          "height": 35
        },
        "outputId": "b556a3fb-3246-4d06-8e34-10d388fd711d"
      },
      "source": [
        "#O total é:\n",
        "base_cobranca_2.count()['id']"
      ],
      "execution_count": 11,
      "outputs": [
        {
          "output_type": "execute_result",
          "data": {
            "text/plain": [
              "333"
            ]
          },
          "metadata": {
            "tags": []
          },
          "execution_count": 11
        }
      ]
    }
  ]
}